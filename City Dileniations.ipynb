{
 "cells": [
  {
   "cell_type": "code",
   "execution_count": 175,
   "metadata": {},
   "outputs": [],
   "source": [
    "import requests\n",
    "import geopandas as gpd\n",
    "from shapely.geometry import Polygon\n",
    "\n",
    "\n",
    "\n",
    "name = \"hereapi\"\n",
    "ID = 'AeRgZacJKwd2aWmDMyhr'\n",
    "CODE = '7PLnT1O28NidyurIk5BqJA'\n",
    "\n",
    "head = 'https://isoline.route.cit.api.here.com/routing/7.2/calculateisoline.json?'\n",
    "URL_Base = '{}app_id={}&app_code={}&mode=shortest;car;traffic:{}&start=geo!{},{}&range={}&rangetype={}'\n",
    "URL_Base_dep = '{}app_id={}&app_code={}&mode=shortest;car;traffic:{}&departure={}&start=geo!{},{}&range={}&rangetype={}'\n",
    "\n",
    "def get_isodata(location, range_iso = 3600, type_iso = 'time', traffic='disabled', departure=None): #receives a single location\n",
    "    if departure == None:\n",
    "        url = URL_Base.format(head, ID, CODE, traffic, location[0], location[1], range_iso, type_iso) \n",
    "    else: \n",
    "        url = URL_Base_dep.format(head, ID, CODE, traffic, departure, location[0], location[1], range_iso, type_iso)\n",
    "    try: \n",
    "        js = requests.get(url).json()['response']\n",
    "        iso = js['isoline']\n",
    "        coords = Polygon([(float(x.split(',')[1]), float(x.split(',')[0])) for x in iso[0]['component'][0]['shape']])\n",
    "        geojs = gpd.GeoSeries([coords]).__geo_interface__\n",
    "        geojs['style'] = {\"__comment\": \"all SVG styles allowed\", \"fill\":\"red\", \"stroke-width\":\"3\", \"fill-opacity\":0.6\n",
    "    }\n",
    "        return geojs\n",
    "    except KeyError:\n",
    "        js = requests.get(url).json()\n",
    "        print(js)\n",
    "        raise ValueError(\"HereAPI doesn't have data requested\")\n",
    "\n",
    "def isoplot(center, locations, color, outputfile):\n",
    "    fm = folium.Map(location = center, zoom_start=10, tiles='CartoDBPositron')\n",
    "    folium.GeoJson(locations).add_to(fm)\n",
    "    fm.save(outputfile)\n",
    "    print('map saved to %s' %outputfile)\n",
    "    \n",
    "    \n",
    "def get_isodata_list(locations, range_iso = 3600, type_iso = 'time', traffic = 'disabled'): \n",
    "    #recevies many locations, as a list of tuples of locations\n",
    "    isoclines = []\n",
    "    for loc in locations: \n",
    "        try:\n",
    "            line = get_isodata(loc, range_iso, type_iso, traffic)\n",
    "            isoclines.append(line)\n",
    "        except ValueError:\n",
    "            pass\n",
    "    return isoclines\n",
    "\n",
    "def isoplots(centers, locations, names, color):\n",
    "    for i, center in enumerate, centers:\n",
    "        isoplot(center, locations[i], color, names[i]+'.html')\n",
    "        \n",
    "def make_list(centers, names, color, range_iso = 3600, type_iso = 'time', traffic = 'disabled'):\n",
    "    for i, center in enumerate(centers):\n",
    "        try:\n",
    "            line = get_isodata(center, range_iso, type_iso, traffic)    \n",
    "        except ValueError:\n",
    "            pass\n",
    "        isoplot(center, line, 'red', 'isoclines/' + names[i] +'.html')\n",
    "        \n",
    "        \n",
    "    "
   ]
  },
  {
   "cell_type": "code",
   "execution_count": 213,
   "metadata": {},
   "outputs": [
    {
     "name": "stdout",
     "output_type": "stream",
     "text": [
      "2019-02-13T17:00:00+05:53\n",
      "map saved to out.html\n",
      "map saved to mumbai_traffic.html\n",
      "map saved to mumbai_notraffic2.html\n"
     ]
    }
   ],
   "source": [
    "import folium\n",
    "import pytz\n",
    "import datetime\n",
    "\n",
    "ist = pytz.timezone('Asia/Kolkata')\n",
    "\n",
    "rush_hour_ist = datetime.datetime(2019,2,13,17,0,0,tzinfo=ist).isoformat()\n",
    "print(rush_hour_ist)\n",
    "abad_center = (23.027496, 72.572697)\n",
    "locsabad = get_isodata(abad_center, 3600, 'time')\n",
    "\n",
    "isoplot(abad_center, locsabad,'red','out.html')\n",
    "\n",
    "mumbai_center = (19.060828, 72.872478)\n",
    "locs = get_isodata(mumbai_center, traffic='enabled', departure='2019-02-13T17:00:00')\n",
    "isoplot(mumbai_center, locs, 'red', 'mumbai_traffic.html')\n",
    "locs2 = get_isodata(mumbai_center, traffic='disabled', departure = '2019-02-13T23:00:00')\n",
    "isoplot(mumbai_center, locs2, 'red', 'mumbai_notraffic2.html')\n",
    "\n",
    "\n",
    "#hereapi.isoplot(home, locs,'red','out.html')"
   ]
  },
  {
   "cell_type": "code",
   "execution_count": 212,
   "metadata": {},
   "outputs": [],
   "source": [
    "import csv \n",
    "\n",
    "city_centers = []\n",
    "names = []\n",
    "with open('worldcities.csv') as worldcities:\n",
    "    csv_reader = csv.reader(worldcities, delimiter=',')\n",
    "    for i, row in enumerate(csv_reader):\n",
    "        if i==0:\n",
    "            pass\n",
    "        else:\n",
    "            if row[9] == '' or float(row[9]) < 1000000:\n",
    "                pass\n",
    "            else:\n",
    "                city_centers.append((row[2], row[3]))\n",
    "                names.append(row[0])\n"
   ]
  },
  {
   "cell_type": "code",
   "execution_count": null,
   "metadata": {},
   "outputs": [],
   "source": []
  },
  {
   "cell_type": "code",
   "execution_count": 207,
   "metadata": {},
   "outputs": [],
   "source": [
    "from functools import partial\n",
    "import pyproj\n",
    "from shapely.geometry import shape, GeometryCollection\n",
    "from shapely.ops import transform\n",
    "import json\n",
    "\n",
    "#not sure about how well this function works. \n",
    "\n",
    "def geojson_area(geojs):\n",
    "    js = geojs['features'][0]['geometry']\n",
    "    s = shape(js)\n",
    "    proj = partial(pyproj.transform, pyproj.Proj(init='epsg:4326'),\n",
    "               pyproj.Proj(init='epsg:3857'))\n",
    "    s_new = transform(proj, s)\n",
    "    return transform(proj, s).area\n",
    "\n"
   ]
  },
  {
   "cell_type": "code",
   "execution_count": 214,
   "metadata": {},
   "outputs": [
    {
     "data": {
      "text/plain": [
       "2106390185.5910017"
      ]
     },
     "execution_count": 214,
     "metadata": {},
     "output_type": "execute_result"
    }
   ],
   "source": [
    "geojson_area(locsabad)"
   ]
  },
  {
   "cell_type": "code",
   "execution_count": null,
   "metadata": {},
   "outputs": [],
   "source": []
  }
 ],
 "metadata": {
  "kernelspec": {
   "display_name": "Python 3",
   "language": "python",
   "name": "python3"
  },
  "language_info": {
   "codemirror_mode": {
    "name": "ipython",
    "version": 3
   },
   "file_extension": ".py",
   "mimetype": "text/x-python",
   "name": "python",
   "nbconvert_exporter": "python",
   "pygments_lexer": "ipython3",
   "version": "3.7.1"
  }
 },
 "nbformat": 4,
 "nbformat_minor": 2
}
